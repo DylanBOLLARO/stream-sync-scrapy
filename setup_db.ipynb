{
 "cells": [
  {
   "cell_type": "code",
   "execution_count": 44,
   "metadata": {},
   "outputs": [],
   "source": [
    "import requests\n",
    "import json\n",
    "\n",
    "url = \"http://localhost:8080/api/v1/movie\"\n",
    "\n",
    "f = open('movies.json')\n",
    "movies = json.load(f)\n",
    "\n",
    "for movie in movies:\n",
    "    movie['image'] = movie['images'][0]['path']\n",
    "    response = requests.request(\"POST\", url, data=movie)"
   ]
  }
 ],
 "metadata": {
  "language_info": {
   "name": "python"
  }
 },
 "nbformat": 4,
 "nbformat_minor": 2
}
